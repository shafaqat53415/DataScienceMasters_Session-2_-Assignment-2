{
 "cells": [
  {
   "cell_type": "code",
   "execution_count": 1,
   "metadata": {},
   "outputs": [],
   "source": [
    "## Write a Python program to find the volume of a sphere with diameter 12 cm.\n",
    "## Formula: V=4/3 * π * r^3"
   ]
  },
  {
   "cell_type": "code",
   "execution_count": 2,
   "metadata": {},
   "outputs": [],
   "source": [
    "import math"
   ]
  },
  {
   "cell_type": "code",
   "execution_count": 5,
   "metadata": {},
   "outputs": [],
   "source": [
    "π = math.pi"
   ]
  },
  {
   "cell_type": "code",
   "execution_count": 7,
   "metadata": {},
   "outputs": [
    {
     "data": {
      "text/plain": [
       "3.141592653589793"
      ]
     },
     "execution_count": 7,
     "metadata": {},
     "output_type": "execute_result"
    }
   ],
   "source": [
    "π"
   ]
  },
  {
   "cell_type": "code",
   "execution_count": 13,
   "metadata": {},
   "outputs": [
    {
     "name": "stdout",
     "output_type": "stream",
     "text": [
      "please enter the diameter of sphere12\n",
      "The volume of sphere is 904.778684\n"
     ]
    }
   ],
   "source": [
    "d = input ('please enter the diameter of sphere')\n",
    "if (d.isnumeric() == True):\n",
    "        r = int(d)/2\n",
    "        V = (4/3)*π*math.pow(r,3)\n",
    "        print (\"The volume of sphere is %f\" %V)\n",
    "else:\n",
    "    print (\"Please enter a numeric value\")"
   ]
  },
  {
   "cell_type": "code",
   "execution_count": 14,
   "metadata": {},
   "outputs": [
    {
     "name": "stdout",
     "output_type": "stream",
     "text": [
      "please enter the diameter of spherea\n",
      "Please enter a numeric value\n"
     ]
    }
   ],
   "source": [
    "d = input ('please enter the diameter of sphere')\n",
    "if (d.isnumeric() == True):\n",
    "        r = int(d)/2\n",
    "        V = (4/3)*π*math.pow(r,3)\n",
    "        print (\"The volume of sphere is %f\" %V)\n",
    "else:\n",
    "    print (\"Please enter a numeric value\")"
   ]
  }
 ],
 "metadata": {
  "kernelspec": {
   "display_name": "Python 3",
   "language": "python",
   "name": "python3"
  },
  "language_info": {
   "codemirror_mode": {
    "name": "ipython",
    "version": 3
   },
   "file_extension": ".py",
   "mimetype": "text/x-python",
   "name": "python",
   "nbconvert_exporter": "python",
   "pygments_lexer": "ipython3",
   "version": "3.6.5"
  }
 },
 "nbformat": 4,
 "nbformat_minor": 2
}
